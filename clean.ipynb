{
 "cells": [
  {
   "cell_type": "code",
   "execution_count": 2,
   "metadata": {},
   "outputs": [],
   "source": [
    "#import libraries\n",
    "import pandas as pd\n",
    "import numpy as np"
   ]
  },
  {
   "cell_type": "code",
   "execution_count": 21,
   "metadata": {},
   "outputs": [],
   "source": [
    "add = 'https://raw.githubusercontent.com/WalePhenomenon/climate_change/master/fuel_ferc1.csv'\n",
    "df = pd.read_csv(add)"
   ]
  },
  {
   "cell_type": "code",
   "execution_count": 22,
   "metadata": {},
   "outputs": [],
   "source": [
    "#df"
   ]
  },
  {
   "cell_type": "markdown",
   "metadata": {},
   "source": [
    "Replacing blanks with numpy's nan, if any"
   ]
  },
  {
   "cell_type": "code",
   "execution_count": 23,
   "metadata": {},
   "outputs": [],
   "source": [
    "df = df.replace(r'^\\s+$', np.nan, regex=True)"
   ]
  },
  {
   "cell_type": "code",
   "execution_count": 24,
   "metadata": {},
   "outputs": [
    {
     "data": {
      "text/html": [
       "<div>\n",
       "<style scoped>\n",
       "    .dataframe tbody tr th:only-of-type {\n",
       "        vertical-align: middle;\n",
       "    }\n",
       "\n",
       "    .dataframe tbody tr th {\n",
       "        vertical-align: top;\n",
       "    }\n",
       "\n",
       "    .dataframe thead th {\n",
       "        text-align: right;\n",
       "    }\n",
       "</style>\n",
       "<table border=\"1\" class=\"dataframe\">\n",
       "  <thead>\n",
       "    <tr style=\"text-align: right;\">\n",
       "      <th></th>\n",
       "      <th>utility_id_ferc1</th>\n",
       "      <th>report_year</th>\n",
       "      <th>fuel_qty_burned</th>\n",
       "      <th>fuel_mmbtu_per_unit</th>\n",
       "      <th>fuel_cost_per_unit_burned</th>\n",
       "      <th>fuel_cost_per_unit_delivered</th>\n",
       "      <th>fuel_cost_per_mmbtu</th>\n",
       "    </tr>\n",
       "  </thead>\n",
       "  <tbody>\n",
       "    <tr>\n",
       "      <th>count</th>\n",
       "      <td>29523.000000</td>\n",
       "      <td>29523.000000</td>\n",
       "      <td>2.952300e+04</td>\n",
       "      <td>29523.000000</td>\n",
       "      <td>29523.000000</td>\n",
       "      <td>2.952300e+04</td>\n",
       "      <td>29523.000000</td>\n",
       "    </tr>\n",
       "    <tr>\n",
       "      <th>mean</th>\n",
       "      <td>118.601836</td>\n",
       "      <td>2005.806050</td>\n",
       "      <td>2.622119e+06</td>\n",
       "      <td>8.492111</td>\n",
       "      <td>208.649031</td>\n",
       "      <td>9.175704e+02</td>\n",
       "      <td>19.304354</td>\n",
       "    </tr>\n",
       "    <tr>\n",
       "      <th>std</th>\n",
       "      <td>74.178353</td>\n",
       "      <td>7.025483</td>\n",
       "      <td>9.118004e+06</td>\n",
       "      <td>10.600220</td>\n",
       "      <td>2854.490090</td>\n",
       "      <td>6.877593e+04</td>\n",
       "      <td>2091.540939</td>\n",
       "    </tr>\n",
       "    <tr>\n",
       "      <th>min</th>\n",
       "      <td>1.000000</td>\n",
       "      <td>1994.000000</td>\n",
       "      <td>1.000000e+00</td>\n",
       "      <td>0.000001</td>\n",
       "      <td>-276.080000</td>\n",
       "      <td>-8.749370e+02</td>\n",
       "      <td>-41.501000</td>\n",
       "    </tr>\n",
       "    <tr>\n",
       "      <th>25%</th>\n",
       "      <td>55.000000</td>\n",
       "      <td>2000.000000</td>\n",
       "      <td>1.381700e+04</td>\n",
       "      <td>1.024000</td>\n",
       "      <td>5.207000</td>\n",
       "      <td>3.778500e+00</td>\n",
       "      <td>1.940000</td>\n",
       "    </tr>\n",
       "    <tr>\n",
       "      <th>50%</th>\n",
       "      <td>122.000000</td>\n",
       "      <td>2006.000000</td>\n",
       "      <td>2.533220e+05</td>\n",
       "      <td>5.762694</td>\n",
       "      <td>26.000000</td>\n",
       "      <td>1.737100e+01</td>\n",
       "      <td>4.127000</td>\n",
       "    </tr>\n",
       "    <tr>\n",
       "      <th>75%</th>\n",
       "      <td>176.000000</td>\n",
       "      <td>2012.000000</td>\n",
       "      <td>1.424034e+06</td>\n",
       "      <td>17.006000</td>\n",
       "      <td>47.113000</td>\n",
       "      <td>4.213700e+01</td>\n",
       "      <td>7.745000</td>\n",
       "    </tr>\n",
       "    <tr>\n",
       "      <th>max</th>\n",
       "      <td>514.000000</td>\n",
       "      <td>2018.000000</td>\n",
       "      <td>5.558942e+08</td>\n",
       "      <td>341.260000</td>\n",
       "      <td>139358.000000</td>\n",
       "      <td>7.964521e+06</td>\n",
       "      <td>359278.000000</td>\n",
       "    </tr>\n",
       "  </tbody>\n",
       "</table>\n",
       "</div>"
      ],
      "text/plain": [
       "       utility_id_ferc1   report_year  fuel_qty_burned  fuel_mmbtu_per_unit  \\\n",
       "count      29523.000000  29523.000000     2.952300e+04         29523.000000   \n",
       "mean         118.601836   2005.806050     2.622119e+06             8.492111   \n",
       "std           74.178353      7.025483     9.118004e+06            10.600220   \n",
       "min            1.000000   1994.000000     1.000000e+00             0.000001   \n",
       "25%           55.000000   2000.000000     1.381700e+04             1.024000   \n",
       "50%          122.000000   2006.000000     2.533220e+05             5.762694   \n",
       "75%          176.000000   2012.000000     1.424034e+06            17.006000   \n",
       "max          514.000000   2018.000000     5.558942e+08           341.260000   \n",
       "\n",
       "       fuel_cost_per_unit_burned  fuel_cost_per_unit_delivered  \\\n",
       "count               29523.000000                  2.952300e+04   \n",
       "mean                  208.649031                  9.175704e+02   \n",
       "std                  2854.490090                  6.877593e+04   \n",
       "min                  -276.080000                 -8.749370e+02   \n",
       "25%                     5.207000                  3.778500e+00   \n",
       "50%                    26.000000                  1.737100e+01   \n",
       "75%                    47.113000                  4.213700e+01   \n",
       "max                139358.000000                  7.964521e+06   \n",
       "\n",
       "       fuel_cost_per_mmbtu  \n",
       "count         29523.000000  \n",
       "mean             19.304354  \n",
       "std            2091.540939  \n",
       "min             -41.501000  \n",
       "25%               1.940000  \n",
       "50%               4.127000  \n",
       "75%               7.745000  \n",
       "max          359278.000000  "
      ]
     },
     "execution_count": 24,
     "metadata": {},
     "output_type": "execute_result"
    }
   ],
   "source": [
    "df.describe()"
   ]
  },
  {
   "cell_type": "markdown",
   "metadata": {},
   "source": [
    "check columns with Nan"
   ]
  },
  {
   "cell_type": "code",
   "execution_count": 25,
   "metadata": {},
   "outputs": [
    {
     "name": "stdout",
     "output_type": "stream",
     "text": [
      "record_id : False\n",
      "utility_id_ferc1 : False\n",
      "report_year : False\n",
      "plant_name_ferc1 : False\n",
      "fuel_type_code_pudl : False\n",
      "fuel_unit : True\n",
      "fuel_qty_burned : False\n",
      "fuel_mmbtu_per_unit : False\n",
      "fuel_cost_per_unit_burned : False\n",
      "fuel_cost_per_unit_delivered : False\n",
      "fuel_cost_per_mmbtu : False\n"
     ]
    }
   ],
   "source": [
    "#this line of code will be used to check each column for missing values \n",
    "for col in df.columns:\n",
    "    print(f'{col} : {df[col].isnull().values.any()}')"
   ]
  },
  {
   "cell_type": "markdown",
   "metadata": {},
   "source": [
    "Knowing how many nans we have "
   ]
  },
  {
   "cell_type": "code",
   "execution_count": 26,
   "metadata": {},
   "outputs": [
    {
     "name": "stdout",
     "output_type": "stream",
     "text": [
      "record_id\n",
      "False    29523\n",
      "Name: record_id, dtype: int64\n",
      "\n",
      "utility_id_ferc1\n",
      "False    29523\n",
      "Name: utility_id_ferc1, dtype: int64\n",
      "\n",
      "report_year\n",
      "False    29523\n",
      "Name: report_year, dtype: int64\n",
      "\n",
      "plant_name_ferc1\n",
      "False    29523\n",
      "Name: plant_name_ferc1, dtype: int64\n",
      "\n",
      "fuel_type_code_pudl\n",
      "False    29523\n",
      "Name: fuel_type_code_pudl, dtype: int64\n",
      "\n",
      "fuel_unit\n",
      "False    29343\n",
      "True       180\n",
      "Name: fuel_unit, dtype: int64\n",
      "\n",
      "fuel_qty_burned\n",
      "False    29523\n",
      "Name: fuel_qty_burned, dtype: int64\n",
      "\n",
      "fuel_mmbtu_per_unit\n",
      "False    29523\n",
      "Name: fuel_mmbtu_per_unit, dtype: int64\n",
      "\n",
      "fuel_cost_per_unit_burned\n",
      "False    29523\n",
      "Name: fuel_cost_per_unit_burned, dtype: int64\n",
      "\n",
      "fuel_cost_per_unit_delivered\n",
      "False    29523\n",
      "Name: fuel_cost_per_unit_delivered, dtype: int64\n",
      "\n",
      "fuel_cost_per_mmbtu\n",
      "False    29523\n",
      "Name: fuel_cost_per_mmbtu, dtype: int64\n",
      "\n"
     ]
    }
   ],
   "source": [
    "nans = df.isnull()\n",
    "for col in nans.columns.values.tolist():\n",
    "    print(col)\n",
    "    print (nans[col].value_counts())\n",
    "    print(\"\") "
   ]
  },
  {
   "cell_type": "markdown",
   "metadata": {},
   "source": [
    "#Dealing with column Fuel unit \n",
    "    1. it should be an object and not integer (convert to obj)\n",
    "    2.140 of 29523 is a quite small (dropping all may be considered )\n",
    "    3. would investigate dataset for significance of the intended  drops on the dataset \n",
    "        a. qr grid or excel would be used for this "
   ]
  },
  {
   "cell_type": "code",
   "execution_count": 9,
   "metadata": {},
   "outputs": [],
   "source": [
    "# import qgrid as qr\n",
    "# qrw = qr.show_grid(df,show_toolbar=True)\n",
    "# qrw"
   ]
  },
  {
   "cell_type": "markdown",
   "metadata": {},
   "source": [
    "Having investigated the dataset:\\\n",
    "    1. It turns out  elements from column(fuel_type) can be used to ascertain fuel unit\\\n",
    "    2. However, these fuel type have numerous fuel unit, and since we are dealing with measures of volume , assigning wrong unit to a fuel type could be catastophic to our analysis \\\n",
    "    3. The \"waste\" fuel type however can be salvaged , since 99.9% of its fuel units are in ton and its just one row that has bbl has unit. \\\n",
    "    4. So its only the Nan with fuel type 'Waste' that will be be replaced using measure of central tendencies Mode \\\n",
    "    5.Every other Nan will be dropped "
   ]
  },
  {
   "cell_type": "code",
   "execution_count": 27,
   "metadata": {},
   "outputs": [],
   "source": [
    "#This code replaces Nans in fuel_unit where where Fuel_type == Waste\n",
    "df_fuel_waste = df[df['fuel_type_code_pudl'] == 'waste']\n",
    "df['fuel_unit'].fillna(df_fuel_waste['fuel_unit'].replace(np.nan,'ton'), inplace=True)"
   ]
  },
  {
   "cell_type": "code",
   "execution_count": 28,
   "metadata": {},
   "outputs": [
    {
     "name": "stdout",
     "output_type": "stream",
     "text": [
      "record_id\n",
      "False    29523\n",
      "Name: record_id, dtype: int64\n",
      "\n",
      "utility_id_ferc1\n",
      "False    29523\n",
      "Name: utility_id_ferc1, dtype: int64\n",
      "\n",
      "report_year\n",
      "False    29523\n",
      "Name: report_year, dtype: int64\n",
      "\n",
      "plant_name_ferc1\n",
      "False    29523\n",
      "Name: plant_name_ferc1, dtype: int64\n",
      "\n",
      "fuel_type_code_pudl\n",
      "False    29523\n",
      "Name: fuel_type_code_pudl, dtype: int64\n",
      "\n",
      "fuel_unit\n",
      "False    29347\n",
      "True       176\n",
      "Name: fuel_unit, dtype: int64\n",
      "\n",
      "fuel_qty_burned\n",
      "False    29523\n",
      "Name: fuel_qty_burned, dtype: int64\n",
      "\n",
      "fuel_mmbtu_per_unit\n",
      "False    29523\n",
      "Name: fuel_mmbtu_per_unit, dtype: int64\n",
      "\n",
      "fuel_cost_per_unit_burned\n",
      "False    29523\n",
      "Name: fuel_cost_per_unit_burned, dtype: int64\n",
      "\n",
      "fuel_cost_per_unit_delivered\n",
      "False    29523\n",
      "Name: fuel_cost_per_unit_delivered, dtype: int64\n",
      "\n",
      "fuel_cost_per_mmbtu\n",
      "False    29523\n",
      "Name: fuel_cost_per_mmbtu, dtype: int64\n",
      "\n"
     ]
    }
   ],
   "source": [
    "#confirm the replacement worked\n",
    "nans = df.isnull()\n",
    "for col in nans.columns.values.tolist():\n",
    "    print(col)\n",
    "    print (nans[col].value_counts())\n",
    "    print(\"\") "
   ]
  },
  {
   "cell_type": "code",
   "execution_count": 12,
   "metadata": {},
   "outputs": [
    {
     "data": {
      "application/vnd.jupyter.widget-view+json": {
       "model_id": "87fd71c2ab0f404389c77c1ebd23cc95",
       "version_major": 2,
       "version_minor": 0
      },
      "text/plain": [
       "QgridWidget(grid_options={'fullWidthRows': True, 'syncColumnCellResize': True, 'forceFitColumns': True, 'defau…"
      ]
     },
     "metadata": {},
     "output_type": "display_data"
    }
   ],
   "source": [
    "import qgrid as qr\n",
    "qrw = qr.show_grid(df,show_toolbar=True)\n"
   ]
  },
  {
   "cell_type": "markdown",
   "metadata": {},
   "source": [
    "Drop other Nans"
   ]
  },
  {
   "cell_type": "code",
   "execution_count": 17,
   "metadata": {},
   "outputs": [],
   "source": [
    "#df=df['fuel_unit'].dropna(axis=0,how='all')"
   ]
  },
  {
   "cell_type": "code",
   "execution_count": null,
   "metadata": {},
   "outputs": [],
   "source": []
  }
 ],
 "metadata": {
  "kernelspec": {
   "display_name": "Python 3",
   "language": "python",
   "name": "python3"
  },
  "language_info": {
   "codemirror_mode": {
    "name": "ipython",
    "version": 3
   },
   "file_extension": ".py",
   "mimetype": "text/x-python",
   "name": "python",
   "nbconvert_exporter": "python",
   "pygments_lexer": "ipython3",
   "version": "3.7.6"
  }
 },
 "nbformat": 4,
 "nbformat_minor": 4
}
